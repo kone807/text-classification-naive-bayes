{
 "cells": [
  {
   "cell_type": "markdown",
   "metadata": {},
   "source": [
    "# Text Classification Project\n",
    "\n",
    "## Submitted by: Hardik Garg as part of DS+ML course offered by CN"
   ]
  },
  {
   "cell_type": "code",
   "execution_count": 1,
   "metadata": {},
   "outputs": [],
   "source": [
    "import numpy as np, pandas as pd\n",
    "from sklearn import model_selection\n",
    "import os, re\n",
    "import time, operator\n",
    "import matplotlib.pyplot as plt\n",
    "from sklearn.naive_bayes import MultinomialNB\n",
    "from sklearn.metrics import confusion_matrix, classification_report, accuracy_score"
   ]
  },
  {
   "cell_type": "markdown",
   "metadata": {},
   "source": [
    "## Stage-1: Data Preprocessing\n",
    "\n",
    "Here we organize the data into the traditional x,y and train,test arrays so that they can be fed to our algorithm"
   ]
  },
  {
   "cell_type": "code",
   "execution_count": 2,
   "metadata": {},
   "outputs": [],
   "source": [
    "## stop_words list-1\n",
    "## note: this one is very long and program will take too long to run hence this is not used\n",
    "\n",
    "stop_words = [\"a\", \"about\", \"above\", \"after\", \"again\", \"against\", \"ain\", \"all\", \"am\", \"an\", \"and\", \"any\", \"are\", \"aren\", \"aren't\", \"as\", \"at\", \"be\", \"because\", \"been\", \"before\", \"being\", \"below\", \"between\", \"both\", \"but\", \"by\", \"can\", \"couldn\", \"couldn't\", \"d\", \"did\", \"didn\", \"didn't\", \"do\", \"does\", \"doesn\", \"doesn't\", \"doing\", \"don\", \"don't\", \"down\", \"during\", \"each\", \"few\", \"for\", \"from\", \"further\", \"had\", \"hadn\", \"hadn't\", \"has\", \"hasn\", \"hasn't\", \"have\", \"haven\", \"haven't\", \"having\", \"he\", \"her\", \"here\", \"hers\", \"herself\", \"him\", \"himself\", \"his\", \"how\", \"i\", \"if\", \"in\", \"into\", \"is\", \"isn\", \"isn't\", \"it\", \"it's\", \"its\", \"itself\", \"just\", \"ll\", \"m\", \"ma\", \"me\", \"mightn\", \"mightn't\", \"more\", \"most\", \"mustn\", \"mustn't\", \"my\", \"myself\", \"needn\", \"needn't\", \"no\", \"nor\", \"not\", \"now\", \"o\", \"of\", \"off\", \"on\", \"once\", \"only\", \"or\", \"other\", \"our\", \"ours\", \"ourselves\", \"out\", \"over\", \"own\", \"re\", \"s\", \"same\", \"shan\", \"shan't\", \"she\", \"she's\", \"should\", \"should've\", \"shouldn\", \"shouldn't\", \"so\", \"some\", \"such\", \"t\", \"than\", \"that\", \"that'll\", \"the\", \"their\", \"theirs\", \"them\", \"themselves\", \"then\", \"there\", \"these\", \"they\", \"this\", \"those\", \"through\", \"to\", \"too\", \"under\", \"until\", \"up\", \"ve\", \"very\", \"was\", \"wasn\", \"wasn't\", \"we\", \"were\", \"weren\", \"weren't\", \"what\", \"when\", \"where\", \"which\", \"while\", \"who\", \"whom\", \"why\", \"will\", \"with\", \"won\", \"won't\", \"wouldn\", \"wouldn't\", \"y\", \"you\", \"you'd\", \"you'll\", \"you're\", \"you've\", \"your\", \"yours\", \"yourself\", \"yourselves\", \"could\", \"he'd\", \"he'll\", \"he's\", \"here's\", \"how's\", \"i'd\", \"i'll\", \"i'm\", \"i've\", \"let's\", \"ought\", \"she'd\", \"she'll\", \"that's\", \"there's\", \"they'd\", \"they'll\", \"they're\", \"they've\", \"we'd\", \"we'll\", \"we're\", \"we've\", \"what's\", \"when's\", \"where's\", \"who's\", \"why's\", \"would\", \"able\", \"abst\", \"accordance\", \"according\", \"accordingly\", \"across\", \"act\", \"actually\", \"added\", \"adj\", \"affected\", \"affecting\", \"affects\", \"afterwards\", \"ah\", \"almost\", \"alone\", \"along\", \"already\", \"also\", \"although\", \"always\", \"among\", \"amongst\", \"announce\", \"another\", \"anybody\", \"anyhow\", \"anymore\", \"anyone\", \"anything\", \"anyway\", \"anyways\", \"anywhere\", \"apparently\", \"approximately\", \"arent\", \"arise\", \"around\", \"aside\", \"ask\", \"asking\", \"auth\", \"available\", \"away\", \"awfully\", \"b\", \"back\", \"became\", \"become\", \"becomes\", \"becoming\", \"beforehand\", \"begin\", \"beginning\", \"beginnings\", \"begins\", \"behind\", \"believe\", \"beside\", \"besides\", \"beyond\", \"biol\", \"brief\", \"briefly\", \"c\", \"ca\", \"came\", \"cannot\", \"can't\", \"cause\", \"causes\", \"certain\", \"certainly\", \"co\", \"com\", \"come\", \"comes\", \"contain\", \"containing\", \"contains\", \"couldnt\", \"date\", \"different\", \"done\", \"downwards\", \"due\", \"e\", \"ed\", \"edu\", \"effect\", \"eg\", \"eight\", \"eighty\", \"either\", \"else\", \"elsewhere\", \"end\", \"ending\", \"enough\", \"especially\", \"et\", \"etc\", \"even\", \"ever\", \"every\", \"everybody\", \"everyone\", \"everything\", \"everywhere\", \"ex\", \"except\", \"f\", \"far\", \"ff\", \"fifth\", \"first\", \"five\", \"fix\", \"followed\", \"following\", \"follows\", \"former\", \"formerly\", \"forth\", \"found\", \"four\", \"furthermore\", \"g\", \"gave\", \"get\", \"gets\", \"getting\", \"give\", \"given\", \"gives\", \"giving\", \"go\", \"goes\", \"gone\", \"got\", \"gotten\", \"h\", \"happens\", \"hardly\", \"hed\", \"hence\", \"hereafter\", \"hereby\", \"herein\", \"heres\", \"hereupon\", \"hes\", \"hi\", \"hid\", \"hither\", \"home\", \"howbeit\", \"however\", \"hundred\", \"id\", \"ie\", \"im\", \"immediate\", \"immediately\", \"importance\", \"important\", \"inc\", \"indeed\", \"index\", \"information\", \"instead\", \"invention\", \"inward\", \"itd\", \"it'll\", \"j\", \"k\", \"keep\", \"keeps\", \"kept\", \"kg\", \"km\", \"know\", \"known\", \"knows\", \"l\", \"largely\", \"last\", \"lately\", \"later\", \"latter\", \"latterly\", \"least\", \"less\", \"lest\", \"let\", \"lets\", \"like\", \"liked\", \"likely\", \"line\", \"little\", \"'ll\", \"look\", \"looking\", \"looks\", \"ltd\", \"made\", \"mainly\", \"make\", \"makes\", \"many\", \"may\", \"maybe\", \"mean\", \"means\", \"meantime\", \"meanwhile\", \"merely\", \"mg\", \"might\", \"million\", \"miss\", \"ml\", \"moreover\", \"mostly\", \"mr\", \"mrs\", \"much\", \"mug\", \"must\", \"n\", \"na\", \"name\", \"namely\", \"nay\", \"nd\", \"near\", \"nearly\", \"necessarily\", \"necessary\", \"need\", \"needs\", \"neither\", \"never\", \"nevertheless\", \"new\", \"next\", \"nine\", \"ninety\", \"nobody\", \"non\", \"none\", \"nonetheless\", \"noone\", \"normally\", \"nos\", \"noted\", \"nothing\", \"nowhere\", \"obtain\", \"obtained\", \"obviously\", \"often\", \"oh\", \"ok\", \"okay\", \"old\", \"omitted\", \"one\", \"ones\", \"onto\", \"ord\", \"others\", \"otherwise\", \"outside\", \"overall\", \"owing\", \"p\", \"page\", \"pages\", \"part\", \"particular\", \"particularly\", \"past\", \"per\", \"perhaps\", \"placed\", \"please\", \"plus\", \"poorly\", \"possible\", \"possibly\", \"potentially\", \"pp\", \"predominantly\", \"present\", \"previously\", \"primarily\", \"probably\", \"promptly\", \"proud\", \"provides\", \"put\", \"q\", \"que\", \"quickly\", \"quite\", \"qv\", \"r\", \"ran\", \"rather\", \"rd\", \"readily\", \"really\", \"recent\", \"recently\", \"ref\", \"refs\", \"regarding\", \"regardless\", \"regards\", \"related\", \"relatively\", \"research\", \"respectively\", \"resulted\", \"resulting\", \"results\", \"right\", \"run\", \"said\", \"saw\", \"say\", \"saying\", \"says\", \"sec\", \"section\", \"see\", \"seeing\", \"seem\", \"seemed\", \"seeming\", \"seems\", \"seen\", \"self\", \"selves\", \"sent\", \"seven\", \"several\", \"shall\", \"shed\", \"shes\", \"show\", \"showed\", \"shown\", \"showns\", \"shows\", \"significant\", \"significantly\", \"similar\", \"similarly\", \"since\", \"six\", \"slightly\", \"somebody\", \"somehow\", \"someone\", \"somethan\", \"something\", \"sometime\", \"sometimes\", \"somewhat\", \"somewhere\", \"soon\", \"sorry\", \"specifically\", \"specified\", \"specify\", \"specifying\", \"still\", \"stop\", \"strongly\", \"sub\", \"substantially\", \"successfully\", \"sufficiently\", \"suggest\", \"sup\", \"sure\", \"take\", \"taken\", \"taking\", \"tell\", \"tends\", \"th\", \"thank\", \"thanks\", \"thanx\", \"thats\", \"that've\", \"thence\", \"thereafter\", \"thereby\", \"thered\", \"therefore\", \"therein\", \"there'll\", \"thereof\", \"therere\", \"theres\", \"thereto\", \"thereupon\", \"there've\", \"theyd\", \"theyre\", \"think\", \"thou\", \"though\", \"thoughh\", \"thousand\", \"throug\", \"throughout\", \"thru\", \"thus\", \"til\", \"tip\", \"together\", \"took\", \"toward\", \"towards\", \"tried\", \"tries\", \"truly\", \"try\", \"trying\", \"ts\", \"twice\", \"two\", \"u\", \"un\", \"unfortunately\", \"unless\", \"unlike\", \"unlikely\", \"unto\", \"upon\", \"ups\", \"us\", \"use\", \"used\", \"useful\", \"usefully\", \"usefulness\", \"uses\", \"using\", \"usually\", \"v\", \"value\", \"various\", \"'ve\", \"via\", \"viz\", \"vol\", \"vols\", \"vs\", \"w\", \"want\", \"wants\", \"wasnt\", \"way\", \"wed\", \"welcome\", \"went\", \"werent\", \"whatever\", \"what'll\", \"whats\", \"whence\", \"whenever\", \"whereafter\", \"whereas\", \"whereby\", \"wherein\", \"wheres\", \"whereupon\", \"wherever\", \"whether\", \"whim\", \"whither\", \"whod\", \"whoever\", \"whole\", \"who'll\", \"whomever\", \"whos\", \"whose\", \"widely\", \"willing\", \"wish\", \"within\", \"without\", \"wont\", \"words\", \"world\", \"wouldnt\", \"www\", \"x\", \"yes\", \"yet\", \"youd\", \"youre\", \"z\", \"zero\", \"a's\", \"ain't\", \"allow\", \"allows\", \"apart\", \"appear\", \"appreciate\", \"appropriate\", \"associated\", \"best\", \"better\", \"c'mon\", \"c's\", \"cant\", \"changes\", \"clearly\", \"concerning\", \"consequently\", \"consider\", \"considering\", \"corresponding\", \"course\", \"currently\", \"definitely\", \"described\", \"despite\", \"entirely\", \"exactly\", \"example\", \"going\", \"greetings\", \"hello\", \"help\", \"hopefully\", \"ignored\", \"inasmuch\", \"indicate\", \"indicated\", \"indicates\", \"inner\", \"insofar\", \"it'd\", \"keep\", \"keeps\", \"novel\", \"presumably\", \"reasonably\", \"second\", \"secondly\", \"sensible\", \"serious\", \"seriously\", \"sure\", \"t's\", \"third\", \"thorough\", \"thoroughly\", \"three\", \"well\", \"wonder\", \"a\", \"about\", \"above\", \"above\", \"across\", \"after\", \"afterwards\", \"again\", \"against\", \"all\", \"almost\", \"alone\", \"along\", \"already\", \"also\", \"although\", \"always\", \"am\", \"among\", \"amongst\", \"amoungst\", \"amount\", \"an\", \"and\", \"another\", \"any\", \"anyhow\", \"anyone\", \"anything\", \"anyway\", \"anywhere\", \"are\", \"around\", \"as\", \"at\", \"back\", \"be\", \"became\", \"because\", \"become\", \"becomes\", \"becoming\", \"been\", \"before\", \"beforehand\", \"behind\", \"being\", \"below\", \"beside\", \"besides\", \"between\", \"beyond\", \"bill\", \"both\", \"bottom\", \"but\", \"by\", \"call\", \"can\", \"cannot\", \"cant\", \"co\", \"con\", \"could\", \"couldnt\", \"cry\", \"de\", \"describe\", \"detail\", \"do\", \"done\", \"down\", \"due\", \"during\", \"each\", \"eg\", \"eight\", \"either\", \"eleven\", \"else\", \"elsewhere\", \"empty\", \"enough\", \"etc\", \"even\", \"ever\", \"every\", \"everyone\", \"everything\", \"everywhere\", \"except\", \"few\", \"fifteen\", \"fify\", \"fill\", \"find\", \"fire\", \"first\", \"five\", \"for\", \"former\", \"formerly\", \"forty\", \"found\", \"four\", \"from\", \"front\", \"full\", \"further\", \"get\", \"give\", \"go\", \"had\", \"has\", \"hasnt\", \"have\", \"he\", \"hence\", \"her\", \"here\", \"hereafter\", \"hereby\", \"herein\", \"hereupon\", \"hers\", \"herself\", \"him\", \"himself\", \"his\", \"how\", \"however\", \"hundred\", \"ie\", \"if\", \"in\", \"inc\", \"indeed\", \"interest\", \"into\", \"is\", \"it\", \"its\", \"itself\", \"keep\", \"last\", \"latter\", \"latterly\", \"least\", \"less\", \"ltd\", \"made\", \"many\", \"may\", \"me\", \"meanwhile\", \"might\", \"mill\", \"mine\", \"more\", \"moreover\", \"most\", \"mostly\", \"move\", \"much\", \"must\", \"my\", \"myself\", \"name\", \"namely\", \"neither\", \"never\", \"nevertheless\", \"next\", \"nine\", \"no\", \"nobody\", \"none\", \"noone\", \"nor\", \"not\", \"nothing\", \"now\", \"nowhere\", \"of\", \"off\", \"often\", \"on\", \"once\", \"one\", \"only\", \"onto\", \"or\", \"other\", \"others\", \"otherwise\", \"our\", \"ours\", \"ourselves\", \"out\", \"over\", \"own\", \"part\", \"per\", \"perhaps\", \"please\", \"put\", \"rather\", \"re\", \"same\", \"see\", \"seem\", \"seemed\", \"seeming\", \"seems\", \"serious\", \"several\", \"she\", \"should\", \"show\", \"side\", \"since\", \"sincere\", \"six\", \"sixty\", \"so\", \"some\", \"somehow\", \"someone\", \"something\", \"sometime\", \"sometimes\", \"somewhere\", \"still\", \"such\", \"system\", \"take\", \"ten\", \"than\", \"that\", \"the\", \"their\", \"them\", \"themselves\", \"then\", \"thence\", \"there\", \"thereafter\", \"thereby\", \"therefore\", \"therein\", \"thereupon\", \"these\", \"they\", \"thickv\", \"thin\", \"third\", \"this\", \"those\", \"though\", \"three\", \"through\", \"throughout\", \"thru\", \"thus\", \"to\", \"together\", \"too\", \"top\", \"toward\", \"towards\", \"twelve\", \"twenty\", \"two\", \"un\", \"under\", \"until\", \"up\", \"upon\", \"us\", \"very\", \"via\", \"was\", \"we\", \"well\", \"were\", \"what\", \"whatever\", \"when\", \"whence\", \"whenever\", \"where\", \"whereafter\", \"whereas\", \"whereby\", \"wherein\", \"whereupon\", \"wherever\", \"whether\", \"which\", \"while\", \"whither\", \"who\", \"whoever\", \"whole\", \"whom\", \"whose\", \"why\", \"will\", \"with\", \"within\", \"without\", \"would\", \"yet\", \"you\", \"your\", \"yours\", \"yourself\", \"yourselves\", \"the\", \"a\", \"b\", \"c\", \"d\", \"e\", \"f\", \"g\", \"h\", \"i\", \"j\", \"k\", \"l\", \"m\", \"n\", \"o\", \"p\", \"q\", \"r\", \"s\", \"t\", \"u\", \"v\", \"w\", \"x\", \"y\", \"z\", \"A\", \"B\", \"C\", \"D\", \"E\", \"F\", \"G\", \"H\", \"I\", \"J\", \"K\", \"L\", \"M\", \"N\", \"O\", \"P\", \"Q\", \"R\", \"S\", \"T\", \"U\", \"V\", \"W\", \"X\", \"Y\", \"Z\", \"co\", \"op\", \"research-articl\", \"pagecount\", \"cit\", \"ibid\", \"les\", \"le\", \"au\", \"que\", \"est\", \"pas\", \"vol\", \"el\", \"los\", \"pp\", \"u201d\", \"well-b\", \"http\", \"volumtype\", \"par\", \"0o\", \"0s\", \"3a\", \"3b\", \"3d\", \"6b\", \"6o\", \"a1\", \"a2\", \"a3\", \"a4\", \"ab\", \"ac\", \"ad\", \"ae\", \"af\", \"ag\", \"aj\", \"al\", \"an\", \"ao\", \"ap\", \"ar\", \"av\", \"aw\", \"ax\", \"ay\", \"az\", \"b1\", \"b2\", \"b3\", \"ba\", \"bc\", \"bd\", \"be\", \"bi\", \"bj\", \"bk\", \"bl\", \"bn\", \"bp\", \"br\", \"bs\", \"bt\", \"bu\", \"bx\", \"c1\", \"c2\", \"c3\", \"cc\", \"cd\", \"ce\", \"cf\", \"cg\", \"ch\", \"ci\", \"cj\", \"cl\", \"cm\", \"cn\", \"cp\", \"cq\", \"cr\", \"cs\", \"ct\", \"cu\", \"cv\", \"cx\", \"cy\", \"cz\", \"d2\", \"da\", \"dc\", \"dd\", \"de\", \"df\", \"di\", \"dj\", \"dk\", \"dl\", \"do\", \"dp\", \"dr\", \"ds\", \"dt\", \"du\", \"dx\", \"dy\", \"e2\", \"e3\", \"ea\", \"ec\", \"ed\", \"ee\", \"ef\", \"ei\", \"ej\", \"el\", \"em\", \"en\", \"eo\", \"ep\", \"eq\", \"er\", \"es\", \"et\", \"eu\", \"ev\", \"ex\", \"ey\", \"f2\", \"fa\", \"fc\", \"ff\", \"fi\", \"fj\", \"fl\", \"fn\", \"fo\", \"fr\", \"fs\", \"ft\", \"fu\", \"fy\", \"ga\", \"ge\", \"gi\", \"gj\", \"gl\", \"go\", \"gr\", \"gs\", \"gy\", \"h2\", \"h3\", \"hh\", \"hi\", \"hj\", \"ho\", \"hr\", \"hs\", \"hu\", \"hy\", \"i\", \"i2\", \"i3\", \"i4\", \"i6\", \"i7\", \"i8\", \"ia\", \"ib\", \"ic\", \"ie\", \"ig\", \"ih\", \"ii\", \"ij\", \"il\", \"in\", \"io\", \"ip\", \"iq\", \"ir\", \"iv\", \"ix\", \"iy\", \"iz\", \"jj\", \"jr\", \"js\", \"jt\", \"ju\", \"ke\", \"kg\", \"kj\", \"km\", \"ko\", \"l2\", \"la\", \"lb\", \"lc\", \"lf\", \"lj\", \"ln\", \"lo\", \"lr\", \"ls\", \"lt\", \"m2\", \"ml\", \"mn\", \"mo\", \"ms\", \"mt\", \"mu\", \"n2\", \"nc\", \"nd\", \"ne\", \"ng\", \"ni\", \"nj\", \"nl\", \"nn\", \"nr\", \"ns\", \"nt\", \"ny\", \"oa\", \"ob\", \"oc\", \"od\", \"of\", \"og\", \"oi\", \"oj\", \"ol\", \"om\", \"on\", \"oo\", \"oq\", \"or\", \"os\", \"ot\", \"ou\", \"ow\", \"ox\", \"oz\", \"p1\", \"p2\", \"p3\", \"pc\", \"pd\", \"pe\", \"pf\", \"ph\", \"pi\", \"pj\", \"pk\", \"pl\", \"pm\", \"pn\", \"po\", \"pq\", \"pr\", \"ps\", \"pt\", \"pu\", \"py\", \"qj\", \"qu\", \"r2\", \"ra\", \"rc\", \"rd\", \"rf\", \"rh\", \"ri\", \"rj\", \"rl\", \"rm\", \"rn\", \"ro\", \"rq\", \"rr\", \"rs\", \"rt\", \"ru\", \"rv\", \"ry\", \"s2\", \"sa\", \"sc\", \"sd\", \"se\", \"sf\", \"si\", \"sj\", \"sl\", \"sm\", \"sn\", \"sp\", \"sq\", \"sr\", \"ss\", \"st\", \"sy\", \"sz\", \"t1\", \"t2\", \"t3\", \"tb\", \"tc\", \"td\", \"te\", \"tf\", \"th\", \"ti\", \"tj\", \"tl\", \"tm\", \"tn\", \"tp\", \"tq\", \"tr\", \"ts\", \"tt\", \"tv\", \"tx\", \"ue\", \"ui\", \"uj\", \"uk\", \"um\", \"un\", \"uo\", \"ur\", \"ut\", \"va\", \"wa\", \"vd\", \"wi\", \"vj\", \"vo\", \"wo\", \"vq\", \"vt\", \"vu\", \"x1\", \"x2\", \"x3\", \"xf\", \"xi\", \"xj\", \"xk\", \"xl\", \"xn\", \"xo\", \"xs\", \"xt\", \"xv\", \"xx\", \"y2\", \"yj\", \"yl\", \"yr\", \"ys\", \"yt\", \"zi\", \"zz\"]"
   ]
  },
  {
   "cell_type": "code",
   "execution_count": 25,
   "metadata": {},
   "outputs": [],
   "source": [
    "## stop_words list-2 \n",
    "## note: this one is shorter and less accurate but runs fast. This is used\n",
    "\n",
    "stop_words = ['i', 'me', 'my', 'myself', 'we', 'our', 'ours', 'ourselves', 'you', \"you're\", \"you've\", \"you'll\", \"you'd\", 'your', 'yours', 'yourself', 'yourselves', 'he', 'him', 'his', 'himself', 'she', \"she's\", 'her', 'hers', 'herself', 'it', \"it's\", 'its', 'itself', 'they', 'them', 'their', 'theirs', 'themselves', 'what', 'which', 'who', 'whom', 'this', 'that', \"that'll\", 'these', 'those', 'am', 'is', 'are', 'was', 'were', 'be', 'been', 'being', 'have', 'has', 'had', 'having', 'do', 'does', 'did', 'doing', 'a', 'an', 'the', 'and', 'but', 'if', 'or', 'because', 'as', 'until', 'while', 'of', 'at', 'by', 'for', 'with', 'about', 'against', 'between', 'into', 'through', 'during', 'before', 'after', 'above', 'below', 'to', 'from', 'up', 'down', 'in', 'out', 'on', 'off', 'over', 'under', 'again', 'further', 'then', 'once', 'here', 'there', 'when', 'where', 'why', 'how', 'all', 'any', 'both', 'each', 'few', 'more', 'most', 'other', 'some', 'such', 'no', 'nor', 'not', 'only', 'own', 'same', 'so', 'than', 'too', 'very', 's', 't', 'can', 'will', 'just', 'don', \"don't\", 'should', \"should've\", 'now', 'd', 'll', 'm', 'o', 're', 've', 'y', 'ain', 'aren', \"aren't\", 'couldn', \"couldn't\", 'didn', \"didn't\", 'doesn', \"doesn't\", 'hadn', \"hadn't\", 'hasn', \"hasn't\", 'haven', \"haven't\", 'isn', \"isn't\", 'ma', 'mightn', \"mightn't\", 'mustn', \"mustn't\", 'needn', \"needn't\", 'shan', \"shan't\", 'shouldn', \"shouldn't\", 'wasn', \"wasn't\", 'weren', \"weren't\", 'won', \"won't\", 'wouldn', \"wouldn't\"]"
   ]
  },
  {
   "cell_type": "code",
   "execution_count": 26,
   "metadata": {},
   "outputs": [],
   "source": [
    "## storing documents in x,y\n",
    "x = []\n",
    "y = []\n",
    "\n",
    "## accessing directories and thus documents\n",
    "for category in os.listdir(\"/home/hardeekh/Desktop/sublime/data science/Machine Learning/naive_bayes_project/20_newsgroups\"):\n",
    "    \n",
    "    for document in os.listdir(\"/home/hardeekh/Desktop/sublime/data science/Machine Learning/naive_bayes_project/20_newsgroups/\"+category):\n",
    "        \n",
    "        with open(\"/home/hardeekh/Desktop/sublime/data science/Machine Learning/naive_bayes_project/20_newsgroups/\"+category+\"/\"+document, \"r\", encoding=\"ISO-8859-1\") as file_obj:\n",
    "            \n",
    "            x.append([document, file_obj.read().lower()])\n",
    "            y.append(category)\n",
    "    "
   ]
  },
  {
   "cell_type": "code",
   "execution_count": 27,
   "metadata": {},
   "outputs": [],
   "source": [
    "## doing a 3:1 train_test_split\n",
    "x_train, x_test, y_train, y_test = model_selection.train_test_split(x,y,random_state=0)"
   ]
  },
  {
   "cell_type": "code",
   "execution_count": 30,
   "metadata": {},
   "outputs": [
    {
     "name": "stdout",
     "output_type": "stream",
     "text": [
      "The block executed in: 9.69997239112854 seconds\n",
      "total features / words: 106407\n"
     ]
    }
   ],
   "source": [
    "## creating word-freq dictionary, takes around 10 seconds to execute\n",
    "\n",
    "## time module for calculating time\n",
    "a=time.time()\n",
    "\n",
    "## creating frequency dictionary\n",
    "word_dict = {}\n",
    "\n",
    "for string in x_train:\n",
    "    \n",
    "    ## using regex to extract individual words out of a long news article.\n",
    "    words = re.findall(\"[a-z]+\", string[1])\n",
    "    \n",
    "    for word in words:\n",
    "        \n",
    "        ## adding the word in dictionary if it is not a stop word and has length > 2\n",
    "        if word not in stop_words and len(word) > 2:\n",
    "            \n",
    "            if word in word_dict:\n",
    "                word_dict[word]+=1\n",
    "                \n",
    "            else:\n",
    "                word_dict[word]=1\n",
    "                \n",
    "## sort the dictionary in descending order of frequency\n",
    "sorted_word_dict = sorted(word_dict.items(), key=operator.itemgetter(1),reverse=True)\n",
    "\n",
    "## sort frequency values\n",
    "\n",
    "## array having only values\n",
    "value_arr = [sorted_word_dict[i][1] for i in range(len(sorted_word_dict))]\n",
    "\n",
    "## array having only keys. This serves as our vocabulary\n",
    "vocab = [sorted_word_dict[i][0] for i in range(len(sorted_word_dict))]\n",
    "\n",
    "print(\"The block executed in:\",time.time()-a,\"seconds\")\n",
    "print(\"total features / words:\", len(vocab))"
   ]
  },
  {
   "cell_type": "code",
   "execution_count": 7,
   "metadata": {},
   "outputs": [
    {
     "data": {
      "image/png": "[encoded data removed]",
      "text/plain": [
       "<Figure size 432x288 with 1 Axes>"
      ]
     },
     "metadata": {
      "needs_background": "light"
     },
     "output_type": "display_data"
    }
   ],
   "source": [
    "## plotting feature vs frequency graph\n",
    "\n",
    "plot_x = np.array([i+1 for i in range(len(sorted_word_dict))])\n",
    "plot_y = value_arr\n",
    "\n",
    "plt.plot(plot_x, plot_y)\n",
    "plt.axis([0,8000,1,5000])\n",
    "plt.xlabel(\"Feature Number\")\n",
    "plt.ylabel(\"Number of Occurences\")\n",
    "plt.show()"
   ]
  },
  {
   "cell_type": "code",
   "execution_count": 31,
   "metadata": {},
   "outputs": [
    {
     "name": "stdout",
     "output_type": "stream",
     "text": [
      "103.1876893043518\n"
     ]
    }
   ],
   "source": [
    "## preparing datasets for x_train of the model\n",
    "\n",
    "## this block takes aroudn 144 seconds to execute since the data has 2000 features, 15000 rows, \n",
    "## and each row is further tokenized into separate words\n",
    "a = time.time()\n",
    "\n",
    "## I am choosing the first 2000 features as beyond that there is no significant change in the accuracy\n",
    "## of the model (found by trial-and-error)\n",
    "\n",
    "num_features = 2000\n",
    "\n",
    "## reducing vocabulary and other parameters to the first 2000 features\n",
    "sorted_word_dict = sorted_word_dict[:num_features]\n",
    "vocab = vocab[:num_features]\n",
    "value_arr = value_arr[:num_features]\n",
    "\n",
    "## initializing numpy arrays for the model which will eventually be passed\n",
    "## these are 2D arrays having data-points as rows and each element of vocab array as a feature\n",
    "## so we have 2000 features for this model\n",
    "x_train_for_model = np.zeros((len(x_train), num_features))\n",
    "x_test_for_model = np.zeros((len(x_test), num_features))\n",
    "\n",
    "## populating x_train_for_model\n",
    "for i in range(len(x_train)):\n",
    "    \n",
    "    ## tokenizing current word using regex\n",
    "    words = re.findall(\"[a-z]+\", x_train[i][1])\n",
    "    \n",
    "    ## iterating over separate words and adding them iff they belong to the vocab\n",
    "    for word in words:\n",
    "        \n",
    "        if word in vocab:\n",
    "            x_train_for_model[i][vocab.index(word)]+=1\n",
    "    \n",
    "print(\"The block executed in:\",time.time()-a,\"seconds\")"
   ]
  },
  {
   "cell_type": "code",
   "execution_count": 32,
   "metadata": {},
   "outputs": [
    {
     "name": "stdout",
     "output_type": "stream",
     "text": [
      "The block executed in: 29.92203712463379 seconds\n"
     ]
    }
   ],
   "source": [
    "## preparing datasets of the x_test of the model, proceeds exactly like previous block\n",
    "## note that vocab was created using x_train only but now we process x_test according to that vocab only\n",
    "\n",
    "## this block executes in around 30 seconds\n",
    "\n",
    "a=time.time()\n",
    "\n",
    "for i in range(len(x_test)):\n",
    "    \n",
    "    ## iterating over separate words and adding them iff they belong to the vocab\n",
    "    \n",
    "    words = re.findall(\"[a-z]+\", x_test[i][1])\n",
    "    \n",
    "    for word in words:\n",
    "        \n",
    "        if word in vocab:\n",
    "            \n",
    "            x_test_for_model[i][vocab.index(word)]+=1\n",
    "    \n",
    "print(\"The block executed in:\",time.time()-a,\"seconds\")    "
   ]
  },
  {
   "cell_type": "markdown",
   "metadata": {},
   "source": [
    "## Stage-2: Model using sklearn\n",
    "\n",
    "Here we train the data on in-built multinomial naive bayes module and print its confusion matrix and classification report"
   ]
  },
  {
   "cell_type": "code",
   "execution_count": 33,
   "metadata": {},
   "outputs": [
    {
     "name": "stdout",
     "output_type": "stream",
     "text": [
      "training score: 0.8942455157698206\n",
      "testing score: 0.8634\n"
     ]
    }
   ],
   "source": [
    "clf1 = MultinomialNB()\n",
    "clf1.fit(x_train_for_model, y_train)\n",
    "y_pred = clf1.predict(x_test_for_model)\n",
    "\n",
    "print(\"training score:\",clf.score(x_train_for_model, y_train))\n",
    "print(\"testing score:\",clf.score(x_test_for_model, y_test))"
   ]
  },
  {
   "cell_type": "code",
   "execution_count": 17,
   "metadata": {},
   "outputs": [
    {
     "name": "stdout",
     "output_type": "stream",
     "text": [
      "[[200   0   0   0   0   0   0   0   0   0   0   1   0   0   0   0   0   0\n",
      "    0  58]\n",
      " [  1 186   5   1   3  20   1   0   0   0   0   3   1   2   5   0   0   0\n",
      "    1   1]\n",
      " [  0   6 188   7   1  22   0   0   0   0   0   0   1   0   0   0   0   0\n",
      "    0   0]\n",
      " [  0  13  18 201  20   5   3   0   0   0   0   0   4   1   0   0   1   0\n",
      "    0   0]\n",
      " [  1  11   3  29 254   8   2   1   0   0   0   0   5   3   0   0   0   0\n",
      "    0   0]\n",
      " [  0   4  16   2   0 167   0   0   0   0   0   0   0   1   0   0   0   0\n",
      "    0   0]\n",
      " [  0   7   7   4   5   3 236   6   2   2   1   2   1   4   0   0   0   3\n",
      "    1   1]\n",
      " [  3   2   3   0   0   0   3 243   5   1   0   0   5   1   1   0   0   1\n",
      "    1   0]\n",
      " [  1   1   0   1   0   1   0  12 226   2   0   0   1   3   1   0   1   1\n",
      "    0   0]\n",
      " [  0   0   0   0   0   0   0   2   2 224  10   0   0   1   1   0   1   0\n",
      "    0   0]\n",
      " [  0   0   0   0   0   0   0   0   0  19 229   0   0   1   1   0   0   0\n",
      "    0   0]\n",
      " [  0   0   1   0   0   1   0   0   0   0   0 241   0   0   0   0   1   0\n",
      "    1   0]\n",
      " [  0   3   2   3   1   4   6   5   1   0   0   1 219   3   8   0   0   0\n",
      "    1   0]\n",
      " [  3   3   1   0   0   0   0   0   0   0   0   1   3 212   1   0   0   0\n",
      "    0   0]\n",
      " [  2   0   0   0   0   2   1   0   0   1   0   1   0   0 239   0   0   0\n",
      "    4   2]\n",
      " [  1   0   0   0   0   0   0   0   0   0   0   0   0   0   0 281   0   0\n",
      "    1   8]\n",
      " [  0   0   0   0   0   0   1   0   0   0   0   2   0   0   0   0 232   5\n",
      "   31  10]\n",
      " [  1   0   0   0   0   0   0   0   0   0   0   0   0   1   0   0   0 234\n",
      "   11   0]\n",
      " [  0   0   0   0   0   0   0   0   0   0   0   1   0   0   1   0  13  17\n",
      "  154  17]\n",
      " [ 33   0   0   0   0   0   0   0   0   0   0   0   0   0   1   0   7   0\n",
      "   25 151]]\n",
      "                          precision    recall  f1-score   support\n",
      "\n",
      "             alt.atheism       0.77      0.81      0.79       246\n",
      "           comp.graphics       0.81      0.79      0.80       236\n",
      " comp.os.ms-windows.misc       0.84      0.77      0.80       244\n",
      "comp.sys.ibm.pc.hardware       0.76      0.81      0.78       248\n",
      "   comp.sys.mac.hardware       0.80      0.89      0.85       284\n",
      "          comp.windows.x       0.88      0.72      0.79       233\n",
      "            misc.forsale       0.83      0.93      0.88       253\n",
      "               rec.autos       0.90      0.90      0.90       269\n",
      "         rec.motorcycles       0.90      0.96      0.93       236\n",
      "      rec.sport.baseball       0.93      0.90      0.91       249\n",
      "        rec.sport.hockey       0.92      0.95      0.93       240\n",
      "               sci.crypt       0.98      0.95      0.97       253\n",
      "         sci.electronics       0.85      0.91      0.88       240\n",
      "                 sci.med       0.95      0.91      0.93       233\n",
      "               sci.space       0.95      0.92      0.94       259\n",
      "  soc.religion.christian       0.97      1.00      0.98       281\n",
      "      talk.politics.guns       0.83      0.91      0.86       256\n",
      "   talk.politics.mideast       0.95      0.90      0.92       261\n",
      "      talk.politics.misc       0.76      0.67      0.71       231\n",
      "      talk.religion.misc       0.70      0.61      0.65       248\n",
      "\n",
      "                accuracy                           0.86      5000\n",
      "               macro avg       0.86      0.86      0.86      5000\n",
      "            weighted avg       0.86      0.86      0.86      5000\n",
      "\n"
     ]
    }
   ],
   "source": [
    "## analysis of model via various metrics\n",
    "\n",
    "confusion_matrix_ = confusion_matrix(y_pred, y_test)\n",
    "report = classification_report(y_test, y_pred)\n",
    "print(confusion_matrix_)\n",
    "print(report)"
   ]
  },
  {
   "cell_type": "markdown",
   "metadata": {},
   "source": [
    "As we can see that our model has 0.86 accuracy on test data. The confusion matrix above also indicates that most of the data points are being classified correctly."
   ]
  },
  {
   "cell_type": "markdown",
   "metadata": {},
   "source": [
    "## Stage-3: Model using self-implemented algorithm\n",
    "\n",
    "Here we train the data on self implemented multinomial naive bayes and print its confusion matrix and classification report"
   ]
  },
  {
   "cell_type": "code",
   "execution_count": 50,
   "metadata": {},
   "outputs": [],
   "source": [
    "## class implementing multinomial_naive_bayes\n",
    "\n",
    "class Multinomial_Naive_Bayes:\n",
    "    \n",
    "    def __init__(self):\n",
    "        ## the main dictionary is a data member of our class\n",
    "        self.result = {}\n",
    "    \n",
    "    ## this is exactly like what was done in the coding session by Ankush sir, so I believe this does not \n",
    "    ## require much explanation\n",
    "    \n",
    "    def fit(self, x, y):\n",
    "        \n",
    "        class_values = set(y)\n",
    "        y=np.array(y)\n",
    "        \n",
    "        ## stores the total number of data points\n",
    "        self.result[\"total_data\"] = len(y)\n",
    "        \n",
    "        for current_class in class_values:\n",
    "            \n",
    "            self.result[current_class] = {}\n",
    "            \n",
    "            x_current = x[y==current_class]\n",
    "            y_current = y[y==current_class]\n",
    "            \n",
    "            num_features = x.shape[1]\n",
    "            \n",
    "            ## stores the total number of data_points in current_class \n",
    "            self.result[current_class][\"total_count\"] = len(y_current)\n",
    "            \n",
    "            ## stores total word count for current_class\n",
    "            temp=0\n",
    "            for j in range(num_features):\n",
    "            \n",
    "                temp+=x_current[:,j].sum()\n",
    "                self.result[current_class][j] = x_current[:,j].sum()\n",
    "                \n",
    "            ## stores total word count for current_class\n",
    "            self.result[current_class][\"word_in_class\"]=temp\n",
    "                \n",
    "                \n",
    "    def probability(self, data_point, current_class):\n",
    "        \n",
    "        ## this is for weighted addition of log probabilties \n",
    "        ## laplace correction is also implemented\n",
    "        \n",
    "        output = np.log(self.result[current_class][\"total_count\"])-np.log(self.result[\"total_data\"])\n",
    "        \n",
    "        ## subtract 2 because of total_count and word_in_class\n",
    "        num_features = len(self.result[current_class].keys())-2\n",
    "        \n",
    "        for j in range(num_features):\n",
    "            \n",
    "            ## value of feature j for current_class\n",
    "            xj = data_point[j]\n",
    "            \n",
    "            if xj==0:\n",
    "                continue\n",
    "                \n",
    "            ## numerator\n",
    "            count_current_class_with_value_xj = self.result[current_class][j]+1\n",
    "            \n",
    "            ## denominator\n",
    "            laplace = len(self.result[current_class].keys())-2\n",
    "            count_current_class = self.result[current_class][\"word_in_class\"] + laplace\n",
    "            \n",
    "            current_xj_probability = np.log(count_current_class_with_value_xj) - np.log(count_current_class)\n",
    "        \n",
    "            output = output + current_xj_probability\n",
    "            \n",
    "        return output\n",
    "        \n",
    "        \n",
    "    def predict_single_point(self, data_point):\n",
    "        \n",
    "        all_classes = self.result.keys()\n",
    "        \n",
    "        best_p = -float(\"inf\")\n",
    "        best_class = -1\n",
    "        first_run = True\n",
    "        \n",
    "        for current_class in all_classes:\n",
    "            \n",
    "            if current_class == \"total_data\":\n",
    "                continue\n",
    "                \n",
    "            p_current_class = self.probability(data_point, current_class)\n",
    "            \n",
    "            if first_run or p_current_class > best_p:\n",
    "                best_p = p_current_class\n",
    "                best_class = current_class\n",
    "                \n",
    "            first_run = False\n",
    "            \n",
    "        #print(\"iteration number:\", self.counter,\"took:\", time.time()-a,\"seconds\")\n",
    "        #self.counter+=1\n",
    "        return best_class\n",
    "        \n",
    "    def predict(self, x):\n",
    "        \n",
    "        y_pred = []\n",
    "        \n",
    "        for data_point in x:\n",
    "            \n",
    "            data_point_class = self.predict_single_point(data_point)\n",
    "            y_pred.append(data_point_class)\n",
    "            \n",
    "        return y_pred\n",
    "                    \n",
    "        "
   ]
  },
  {
   "cell_type": "code",
   "execution_count": 51,
   "metadata": {},
   "outputs": [],
   "source": [
    "## function to find mean accuracy. This is written outside the class so that we can use it without \n",
    "## creating an object as well, for more efficient useage.\n",
    "\n",
    "def score(y_pred, y_test):\n",
    "    count=0\n",
    "    for i in range(len(y_pred)):\n",
    "        if y_pred[i] == y_test[i]:\n",
    "            count+=1\n",
    "    return count/len(y_pred)"
   ]
  },
  {
   "cell_type": "code",
   "execution_count": 52,
   "metadata": {},
   "outputs": [],
   "source": [
    "## using self implemented model this time\n",
    "\n",
    "clf2 = Multinomial_Naive_Bayes()\n",
    "clf2.fit(x_train_for_model, y_train)\n",
    "\n",
    "## uncomment to print main algo dictionary\n",
    "##print(clf2.result)"
   ]
  },
  {
   "cell_type": "code",
   "execution_count": 62,
   "metadata": {},
   "outputs": [
    {
     "name": "stdout",
     "output_type": "stream",
     "text": [
      "training score: 0.907381476295259\n",
      "testing score: 0.8714\n",
      "The block executed in: 358.9994761943817 seconds\n"
     ]
    }
   ],
   "source": [
    "## call prediction function. This function takes around 140 seconds as well (if we train only test data)\n",
    "## training train data will take around 360 seconds or 6 minutes in my system.\n",
    "\n",
    "a = time.time()\n",
    "\n",
    "y_train_pred = clf2.predict(x_train_for_model)\n",
    "y_test_pred = clf2.predict(x_test_for_model)\n",
    "\n",
    "print(\"training score:\",score(y_train_pred, y_train))\n",
    "print(\"testing score:\",score(y_test_pred, y_test))\n",
    "print(\"The block executed in:\",time.time()-a,\"seconds\")    "
   ]
  },
  {
   "cell_type": "code",
   "execution_count": 63,
   "metadata": {},
   "outputs": [
    {
     "name": "stdout",
     "output_type": "stream",
     "text": [
      "[[213   1   0   0   0   0   0   0   0   0   0   0   0   0   0   0   0   0\n",
      "    0  78]\n",
      " [  1 195  20   4   7  32   0   0   0   0   0   3   3   4   8   0   0   0\n",
      "    1   2]\n",
      " [  0   3 172   2   0  17   0   0   0   0   0   0   0   0   0   0   0   0\n",
      "    0   0]\n",
      " [  0   8  21 209   8   2   3   0   0   0   0   0   2   0   0   0   0   0\n",
      "    0   0]\n",
      " [  0   9   5  28 260   6   4   0   0   0   0   0   3   0   0   0   0   0\n",
      "    0   0]\n",
      " [  0  10  18   1   2 175   0   0   0   0   0   1   0   0   0   0   0   0\n",
      "    0   0]\n",
      " [  0   1   5   3   5   0 228   7   3   2   2   1   0   1   1   0   0   2\n",
      "    0   0]\n",
      " [  0   0   0   0   0   0   7 249   5   0   0   0   0   0   0   0   0   0\n",
      "    1   0]\n",
      " [  1   0   0   0   0   0   0   7 228   1   1   0   0   1   1   0   1   0\n",
      "    0   0]\n",
      " [  1   0   0   0   0   0   0   0   0 240   4   0   0   0   0   0   0   0\n",
      "    0   0]\n",
      " [  0   0   0   0   0   0   0   0   0   6 233   0   0   0   0   0   0   0\n",
      "    0   0]\n",
      " [  0   0   2   0   0   0   0   0   0   0   0 241   0   0   0   0   2   0\n",
      "    1   0]\n",
      " [  0   5   0   1   2   1   9   5   0   0   0   5 230   3  12   0   0   0\n",
      "    0   2]\n",
      " [  4   4   0   0   0   0   1   0   0   0   0   0   2 224   2   0   0   0\n",
      "    1   0]\n",
      " [  1   0   0   0   0   0   0   0   0   0   0   0   0   0 232   0   0   0\n",
      "    1   1]\n",
      " [  1   0   0   0   0   0   0   0   0   0   0   0   0   0   0 281   0   0\n",
      "    0   5]\n",
      " [  0   0   0   0   0   0   1   1   0   0   0   1   0   0   0   0 230   5\n",
      "   36  11]\n",
      " [  1   0   0   0   0   0   0   0   0   0   0   0   0   0   0   0   0 236\n",
      "    9   1]\n",
      " [  0   0   1   0   0   0   0   0   0   0   0   1   0   0   3   0  18  17\n",
      "  159  26]\n",
      " [ 23   0   0   0   0   0   0   0   0   0   0   0   0   0   0   0   5   1\n",
      "   22 122]]\n",
      "                          precision    recall  f1-score   support\n",
      "\n",
      "             alt.atheism       0.73      0.87      0.79       246\n",
      "           comp.graphics       0.70      0.83      0.76       236\n",
      " comp.os.ms-windows.misc       0.89      0.70      0.79       244\n",
      "comp.sys.ibm.pc.hardware       0.83      0.84      0.83       248\n",
      "   comp.sys.mac.hardware       0.83      0.92      0.87       284\n",
      "          comp.windows.x       0.85      0.75      0.80       233\n",
      "            misc.forsale       0.87      0.90      0.89       253\n",
      "               rec.autos       0.95      0.93      0.94       269\n",
      "         rec.motorcycles       0.95      0.97      0.96       236\n",
      "      rec.sport.baseball       0.98      0.96      0.97       249\n",
      "        rec.sport.hockey       0.97      0.97      0.97       240\n",
      "               sci.crypt       0.98      0.95      0.97       253\n",
      "         sci.electronics       0.84      0.96      0.89       240\n",
      "                 sci.med       0.94      0.96      0.95       233\n",
      "               sci.space       0.99      0.90      0.94       259\n",
      "  soc.religion.christian       0.98      1.00      0.99       281\n",
      "      talk.politics.guns       0.81      0.90      0.85       256\n",
      "   talk.politics.mideast       0.96      0.90      0.93       261\n",
      "      talk.politics.misc       0.71      0.69      0.70       231\n",
      "      talk.religion.misc       0.71      0.49      0.58       248\n",
      "\n",
      "                accuracy                           0.87      5000\n",
      "               macro avg       0.87      0.87      0.87      5000\n",
      "            weighted avg       0.87      0.87      0.87      5000\n",
      "\n"
     ]
    }
   ],
   "source": [
    "## analysis of model via various metrics\n",
    "\n",
    "confusion_matrix_ = confusion_matrix(y_pred, y_test)\n",
    "report = classification_report(y_test, y_pred)\n",
    "print(confusion_matrix_)\n",
    "print(report)"
   ]
  },
  {
   "cell_type": "markdown",
   "metadata": {},
   "source": [
    "As we can see that our model has 0.87 accuracy on test data. The confusion matrix above also indicates that most of the data points are being classified correctly."
   ]
  },
  {
   "cell_type": "markdown",
   "metadata": {},
   "source": [
    "## Comparison and Final Remarks\n",
    "\n",
    "From the above analysis, the in-built model has an accuracy of 0.86 on the testing data whereas the accuracy increases to 0.87 when the self-implemented model is used. I believe this can be improved more if a more detailed list of stop-words is used. Based on these inferences, the self-implemented model works pretty well in comparison to the inbuilt one. For further comparison, confusion matrices and classification reports in each of the cases can be referred. One more noteworthy point is that the inbuilt algo takes comparatively much lesser time for predictions whereas self implemented model takes aroudn 6 minutes."
   ]
  },
  {
   "cell_type": "markdown",
   "metadata": {},
   "source": [
    "# Thank you :)"
   ]
  }
 ],
 "metadata": {
  "kernelspec": {
   "display_name": "Python 3",
   "language": "python",
   "name": "python3"
  },
  "language_info": {
   "codemirror_mode": {
    "name": "ipython",
    "version": 3
   },
   "file_extension": ".py",
   "mimetype": "text/x-python",
   "name": "python",
   "nbconvert_exporter": "python",
   "pygments_lexer": "ipython3",
   "version": "3.8.5"
  }
 },
 "nbformat": 4,
 "nbformat_minor": 4
}
